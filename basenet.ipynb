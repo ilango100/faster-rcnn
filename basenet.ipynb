{
 "cells": [
  {
   "cell_type": "code",
   "execution_count": 1,
   "metadata": {},
   "outputs": [
    {
     "name": "stdout",
     "output_type": "stream",
     "text": [
      "Requirement already up-to-date: tensorflow in /usr/local/lib/python3.6/dist-packages (1.13.1)\n",
      "Requirement already up-to-date: tensorflow_datasets in /usr/local/lib/python3.6/dist-packages (1.0.1)\n",
      "Requirement already satisfied, skipping upgrade: absl-py>=0.1.6 in /usr/local/lib/python3.6/dist-packages (from tensorflow) (0.7.1)\n",
      "Requirement already satisfied, skipping upgrade: keras-applications>=1.0.6 in /usr/local/lib/python3.6/dist-packages (from tensorflow) (1.0.7)\n",
      "Requirement already satisfied, skipping upgrade: termcolor>=1.1.0 in /usr/local/lib/python3.6/dist-packages (from tensorflow) (1.1.0)\n",
      "Requirement already satisfied, skipping upgrade: astor>=0.6.0 in /usr/local/lib/python3.6/dist-packages (from tensorflow) (0.7.1)\n",
      "Requirement already satisfied, skipping upgrade: grpcio>=1.8.6 in /usr/local/lib/python3.6/dist-packages (from tensorflow) (1.15.0)\n",
      "Requirement already satisfied, skipping upgrade: wheel>=0.26 in /usr/local/lib/python3.6/dist-packages (from tensorflow) (0.33.1)\n",
      "Requirement already satisfied, skipping upgrade: keras-preprocessing>=1.0.5 in /usr/local/lib/python3.6/dist-packages (from tensorflow) (1.0.9)\n",
      "Requirement already satisfied, skipping upgrade: gast>=0.2.0 in /usr/local/lib/python3.6/dist-packages (from tensorflow) (0.2.2)\n",
      "Requirement already satisfied, skipping upgrade: tensorboard<1.14.0,>=1.13.0 in /usr/local/lib/python3.6/dist-packages (from tensorflow) (1.13.1)\n",
      "Requirement already satisfied, skipping upgrade: protobuf>=3.6.1 in /usr/local/lib/python3.6/dist-packages (from tensorflow) (3.7.1)\n",
      "Requirement already satisfied, skipping upgrade: six>=1.10.0 in /usr/local/lib/python3.6/dist-packages (from tensorflow) (1.12.0)\n",
      "Requirement already satisfied, skipping upgrade: tensorflow-estimator<1.14.0rc0,>=1.13.0 in /usr/local/lib/python3.6/dist-packages (from tensorflow) (1.13.0)\n",
      "Requirement already satisfied, skipping upgrade: numpy>=1.13.3 in /usr/local/lib/python3.6/dist-packages (from tensorflow) (1.16.3)\n",
      "Requirement already satisfied, skipping upgrade: wrapt in /usr/local/lib/python3.6/dist-packages (from tensorflow_datasets) (1.10.11)\n",
      "Requirement already satisfied, skipping upgrade: requests in /usr/local/lib/python3.6/dist-packages (from tensorflow_datasets) (2.21.0)\n",
      "Requirement already satisfied, skipping upgrade: promise in /usr/local/lib/python3.6/dist-packages (from tensorflow_datasets) (2.2.1)\n",
      "Requirement already satisfied, skipping upgrade: tensorflow-metadata in /usr/local/lib/python3.6/dist-packages (from tensorflow_datasets) (0.13.0)\n",
      "Requirement already satisfied, skipping upgrade: tqdm in /usr/local/lib/python3.6/dist-packages (from tensorflow_datasets) (4.28.1)\n",
      "Requirement already satisfied, skipping upgrade: future in /usr/local/lib/python3.6/dist-packages (from tensorflow_datasets) (0.16.0)\n",
      "Requirement already satisfied, skipping upgrade: h5py in /usr/local/lib/python3.6/dist-packages (from keras-applications>=1.0.6->tensorflow) (2.8.0)\n",
      "Requirement already satisfied, skipping upgrade: markdown>=2.6.8 in /usr/local/lib/python3.6/dist-packages (from tensorboard<1.14.0,>=1.13.0->tensorflow) (3.1)\n",
      "Requirement already satisfied, skipping upgrade: werkzeug>=0.11.15 in /usr/local/lib/python3.6/dist-packages (from tensorboard<1.14.0,>=1.13.0->tensorflow) (0.15.2)\n",
      "Requirement already satisfied, skipping upgrade: setuptools in /usr/local/lib/python3.6/dist-packages (from protobuf>=3.6.1->tensorflow) (41.0.1)\n",
      "Requirement already satisfied, skipping upgrade: mock>=2.0.0 in /usr/local/lib/python3.6/dist-packages (from tensorflow-estimator<1.14.0rc0,>=1.13.0->tensorflow) (2.0.0)\n",
      "Requirement already satisfied, skipping upgrade: urllib3<1.25,>=1.21.1 in /usr/local/lib/python3.6/dist-packages (from requests->tensorflow_datasets) (1.24.2)\n",
      "Requirement already satisfied, skipping upgrade: certifi>=2017.4.17 in /usr/local/lib/python3.6/dist-packages (from requests->tensorflow_datasets) (2019.3.9)\n",
      "Requirement already satisfied, skipping upgrade: chardet<3.1.0,>=3.0.2 in /usr/local/lib/python3.6/dist-packages (from requests->tensorflow_datasets) (3.0.4)\n",
      "Requirement already satisfied, skipping upgrade: idna<2.9,>=2.5 in /usr/local/lib/python3.6/dist-packages (from requests->tensorflow_datasets) (2.8)\n",
      "Requirement already satisfied, skipping upgrade: googleapis-common-protos in /usr/local/lib/python3.6/dist-packages (from tensorflow-metadata->tensorflow_datasets) (1.5.9)\n",
      "Requirement already satisfied, skipping upgrade: pbr>=0.11 in /usr/local/lib/python3.6/dist-packages (from mock>=2.0.0->tensorflow-estimator<1.14.0rc0,>=1.13.0->tensorflow) (5.1.3)\n"
     ]
    }
   ],
   "source": [
    "!pip install -U tensorflow tensorflow_datasets"
   ]
  },
  {
   "cell_type": "code",
   "execution_count": 2,
   "metadata": {},
   "outputs": [
    {
     "name": "stdout",
     "output_type": "stream",
     "text": [
      "\n",
      "WARNING: The TensorFlow contrib module will not be included in TensorFlow 2.0.\n",
      "For more information, please see:\n",
      "  * https://github.com/tensorflow/community/blob/master/rfcs/20180907-contrib-sunset.md\n",
      "  * https://github.com/tensorflow/addons\n",
      "If you depend on functionality not listed there, please file an issue.\n",
      "\n"
     ]
    }
   ],
   "source": [
    "import tensorflow as tf\n",
    "import tensorflow_datasets as tfds\n",
    "import matplotlib.pyplot as plt"
   ]
  },
  {
   "cell_type": "code",
   "execution_count": 3,
   "metadata": {},
   "outputs": [],
   "source": [
    "svhnb = tfds.builder(\"svhn_cropped\")\n",
    "svhnb.download_and_prepare()"
   ]
  },
  {
   "cell_type": "code",
   "execution_count": 4,
   "metadata": {},
   "outputs": [],
   "source": [
    "# tf.enable_eager_execution()\n",
    "\n",
    "# svhntr = svhnb.as_dataset(split=tfds.Split.TRAIN, as_supervised=True)\n",
    "# i = 0\n",
    "# for img,label in svhntr:\n",
    "#   print(label.numpy())\n",
    "#   plt.imshow(img)\n",
    "#   plt.show()\n",
    "#   i += 1\n",
    "#   if i > 30:\n",
    "#     break"
   ]
  },
  {
   "cell_type": "code",
   "execution_count": 5,
   "metadata": {},
   "outputs": [
    {
     "name": "stdout",
     "output_type": "stream",
     "text": [
      "WARNING:tensorflow:From /usr/local/lib/python3.6/dist-packages/tensorflow/python/ops/control_flow_ops.py:423: colocate_with (from tensorflow.python.framework.ops) is deprecated and will be removed in a future version.\n",
      "Instructions for updating:\n",
      "Colocations handled automatically by placer.\n"
     ]
    },
    {
     "name": "stderr",
     "output_type": "stream",
     "text": [
      "WARNING: Logging before flag parsing goes to stderr.\n",
      "W0430 11:43:07.881996 140413189797760 deprecation.py:323] From /usr/local/lib/python3.6/dist-packages/tensorflow/python/ops/control_flow_ops.py:423: colocate_with (from tensorflow.python.framework.ops) is deprecated and will be removed in a future version.\n",
      "Instructions for updating:\n",
      "Colocations handled automatically by placer.\n"
     ]
    }
   ],
   "source": [
    "bsize=4096\n",
    "svhntr = svhnb.as_dataset(split=tfds.Split.TRAIN, as_supervised=True).repeat().map(\n",
    "    lambda x,y: (tf.image.random_brightness(x/255, 0.6),y)).map(\n",
    "    lambda x,y: (tf.image.random_contrast(x,0.7,1.3),y)).map(\n",
    "    lambda x,y: (tf.image.random_hue(x,0.4),y)).map(\n",
    "    lambda x,y: (x*255,y)\n",
    ").batch(bsize).prefetch(tf.data.experimental.AUTOTUNE)\n",
    "svhnte = svhnb.as_dataset(split=tfds.Split.TEST, as_supervised=True).repeat().batch(bsize).prefetch(tf.data.experimental.AUTOTUNE)\n",
    "trsteps = svhnb.info.splits[\"train\"].num_examples // bsize\n",
    "testeps = svhnb.info.splits[\"test\"].num_examples // bsize"
   ]
  },
  {
   "cell_type": "code",
   "execution_count": 6,
   "metadata": {},
   "outputs": [],
   "source": [
    "def residual(inp, filters=128, momentum=0.9):\n",
    "    inp = x = tf.keras.layers.BatchNormalization(momentum=momentum)(inp)\n",
    "    x = tf.keras.layers.Conv2D(filters, 3, 1, 'same', activation=tf.keras.activations.relu)(x)\n",
    "    \n",
    "    x = tf.keras.layers.BatchNormalization(momentum=momentum)(x)\n",
    "    x = tf.keras.layers.Conv2D(filters, 3, 1, 'same', activation=tf.keras.activations.relu)(x)\n",
    "    \n",
    "    x = tf.keras.layers.add([x,inp])\n",
    "    \n",
    "    return x\n",
    "\n",
    "def reduction(inp, filters=128, momentum=0.9):\n",
    "    inp = x = tf.keras.layers.BatchNormalization(momentum=momentum)(inp)\n",
    "    inp = tf.keras.layers.Conv2D(filters, 1, 2, 'same')(inp)\n",
    "    \n",
    "    x = tf.keras.layers.Conv2D(filters, 3, 2, 'same', activation=tf.keras.activations.relu)(x)\n",
    "    \n",
    "    x = tf.keras.layers.BatchNormalization(momentum=momentum)(x)\n",
    "    x = tf.keras.layers.Conv2D(filters, 3, 1, 'same', activation=tf.keras.activations.relu)(x)\n",
    "    \n",
    "    x = tf.keras.layers.add([x,inp])\n",
    "    \n",
    "    return x"
   ]
  },
  {
   "cell_type": "code",
   "execution_count": 7,
   "metadata": {},
   "outputs": [
    {
     "name": "stdout",
     "output_type": "stream",
     "text": [
      "WARNING:tensorflow:From /usr/local/lib/python3.6/dist-packages/tensorflow/python/keras/layers/core.py:143: calling dropout (from tensorflow.python.ops.nn_ops) with keep_prob is deprecated and will be removed in a future version.\n",
      "Instructions for updating:\n",
      "Please use `rate` instead of `keep_prob`. Rate should be set to `rate = 1 - keep_prob`.\n"
     ]
    },
    {
     "name": "stderr",
     "output_type": "stream",
     "text": [
      "W0430 11:43:18.905135 140413189797760 deprecation.py:506] From /usr/local/lib/python3.6/dist-packages/tensorflow/python/keras/layers/core.py:143: calling dropout (from tensorflow.python.ops.nn_ops) with keep_prob is deprecated and will be removed in a future version.\n",
      "Instructions for updating:\n",
      "Please use `rate` instead of `keep_prob`. Rate should be set to `rate = 1 - keep_prob`.\n"
     ]
    }
   ],
   "source": [
    "inp = x = tf.keras.Input(shape=(None,None,3))\n",
    "\n",
    "x = tf.keras.layers.BatchNormalization(momentum=0.9)(x)\n",
    "x = tf.keras.layers.Conv2D(64, 5, 2, 'same', activation=tf.keras.activations.relu)(x)\n",
    "\n",
    "x = tf.keras.layers.BatchNormalization(momentum=0.9)(x)\n",
    "x = tf.keras.layers.Conv2D(128, 3, 1, 'same', activation=tf.keras.activations.relu)(x)\n",
    "\n",
    "x = residual(x)\n",
    "x = reduction(x)\n",
    "x = residual(x)\n",
    "x = reduction(x)\n",
    "x = residual(x)\n",
    "x = residual(x) # 16x32 Feature maps\n",
    "\n",
    "# x = reduction(x) # 8x16\n",
    "# x = residual(x)\n",
    "\n",
    "x = tf.keras.layers.GlobalAveragePooling2D()(x)\n",
    "\n",
    "x = tf.keras.layers.BatchNormalization(momentum=0.9)(x)\n",
    "x = tf.keras.layers.Dense(64, activation=tf.keras.activations.relu)(x)\n",
    "\n",
    "x = tf.keras.layers.Dropout(rate=0.4)(x)\n",
    "x = tf.keras.layers.Dense(10)(x)"
   ]
  },
  {
   "cell_type": "code",
   "execution_count": 8,
   "metadata": {},
   "outputs": [
    {
     "name": "stdout",
     "output_type": "stream",
     "text": [
      "WARNING:tensorflow:From /usr/local/lib/python3.6/dist-packages/tensorflow/python/ops/losses/losses_impl.py:209: to_float (from tensorflow.python.ops.math_ops) is deprecated and will be removed in a future version.\n",
      "Instructions for updating:\n",
      "Use tf.cast instead.\n"
     ]
    },
    {
     "name": "stderr",
     "output_type": "stream",
     "text": [
      "W0430 11:43:22.384661 140413189797760 deprecation.py:323] From /usr/local/lib/python3.6/dist-packages/tensorflow/python/ops/losses/losses_impl.py:209: to_float (from tensorflow.python.ops.math_ops) is deprecated and will be removed in a future version.\n",
      "Instructions for updating:\n",
      "Use tf.cast instead.\n"
     ]
    },
    {
     "name": "stdout",
     "output_type": "stream",
     "text": [
      "__________________________________________________________________________________________________\n",
      "Layer (type)                    Output Shape         Param #     Connected to                     \n",
      "==================================================================================================\n",
      "input_1 (InputLayer)            (None, None, None, 3 0                                            \n",
      "__________________________________________________________________________________________________\n",
      "batch_normalization_v1 (BatchNo (None, None, None, 3 12          input_1[0][0]                    \n",
      "__________________________________________________________________________________________________\n",
      "conv2d (Conv2D)                 (None, None, None, 6 4864        batch_normalization_v1[0][0]     \n",
      "__________________________________________________________________________________________________\n",
      "batch_normalization_v1_1 (Batch (None, None, None, 6 256         conv2d[0][0]                     \n",
      "__________________________________________________________________________________________________\n",
      "conv2d_1 (Conv2D)               (None, None, None, 1 73856       batch_normalization_v1_1[0][0]   \n",
      "__________________________________________________________________________________________________\n",
      "batch_normalization_v1_2 (Batch (None, None, None, 1 512         conv2d_1[0][0]                   \n",
      "__________________________________________________________________________________________________\n",
      "conv2d_2 (Conv2D)               (None, None, None, 1 147584      batch_normalization_v1_2[0][0]   \n",
      "__________________________________________________________________________________________________\n",
      "batch_normalization_v1_3 (Batch (None, None, None, 1 512         conv2d_2[0][0]                   \n",
      "__________________________________________________________________________________________________\n",
      "conv2d_3 (Conv2D)               (None, None, None, 1 147584      batch_normalization_v1_3[0][0]   \n",
      "__________________________________________________________________________________________________\n",
      "add (Add)                       (None, None, None, 1 0           conv2d_3[0][0]                   \n",
      "                                                                 batch_normalization_v1_2[0][0]   \n",
      "__________________________________________________________________________________________________\n",
      "batch_normalization_v1_4 (Batch (None, None, None, 1 512         add[0][0]                        \n",
      "__________________________________________________________________________________________________\n",
      "conv2d_5 (Conv2D)               (None, None, None, 1 147584      batch_normalization_v1_4[0][0]   \n",
      "__________________________________________________________________________________________________\n",
      "batch_normalization_v1_5 (Batch (None, None, None, 1 512         conv2d_5[0][0]                   \n",
      "__________________________________________________________________________________________________\n",
      "conv2d_6 (Conv2D)               (None, None, None, 1 147584      batch_normalization_v1_5[0][0]   \n",
      "__________________________________________________________________________________________________\n",
      "conv2d_4 (Conv2D)               (None, None, None, 1 16512       batch_normalization_v1_4[0][0]   \n",
      "__________________________________________________________________________________________________\n",
      "add_1 (Add)                     (None, None, None, 1 0           conv2d_6[0][0]                   \n",
      "                                                                 conv2d_4[0][0]                   \n",
      "__________________________________________________________________________________________________\n",
      "batch_normalization_v1_6 (Batch (None, None, None, 1 512         add_1[0][0]                      \n",
      "__________________________________________________________________________________________________\n",
      "conv2d_7 (Conv2D)               (None, None, None, 1 147584      batch_normalization_v1_6[0][0]   \n",
      "__________________________________________________________________________________________________\n",
      "batch_normalization_v1_7 (Batch (None, None, None, 1 512         conv2d_7[0][0]                   \n",
      "__________________________________________________________________________________________________\n",
      "conv2d_8 (Conv2D)               (None, None, None, 1 147584      batch_normalization_v1_7[0][0]   \n",
      "__________________________________________________________________________________________________\n",
      "add_2 (Add)                     (None, None, None, 1 0           conv2d_8[0][0]                   \n",
      "                                                                 batch_normalization_v1_6[0][0]   \n",
      "__________________________________________________________________________________________________\n",
      "batch_normalization_v1_8 (Batch (None, None, None, 1 512         add_2[0][0]                      \n",
      "__________________________________________________________________________________________________\n",
      "conv2d_10 (Conv2D)              (None, None, None, 1 147584      batch_normalization_v1_8[0][0]   \n",
      "__________________________________________________________________________________________________\n",
      "batch_normalization_v1_9 (Batch (None, None, None, 1 512         conv2d_10[0][0]                  \n",
      "__________________________________________________________________________________________________\n",
      "conv2d_11 (Conv2D)              (None, None, None, 1 147584      batch_normalization_v1_9[0][0]   \n",
      "__________________________________________________________________________________________________\n",
      "conv2d_9 (Conv2D)               (None, None, None, 1 16512       batch_normalization_v1_8[0][0]   \n",
      "__________________________________________________________________________________________________\n",
      "add_3 (Add)                     (None, None, None, 1 0           conv2d_11[0][0]                  \n",
      "                                                                 conv2d_9[0][0]                   \n",
      "__________________________________________________________________________________________________\n",
      "batch_normalization_v1_10 (Batc (None, None, None, 1 512         add_3[0][0]                      \n",
      "__________________________________________________________________________________________________\n",
      "conv2d_12 (Conv2D)              (None, None, None, 1 147584      batch_normalization_v1_10[0][0]  \n",
      "__________________________________________________________________________________________________\n",
      "batch_normalization_v1_11 (Batc (None, None, None, 1 512         conv2d_12[0][0]                  \n",
      "__________________________________________________________________________________________________\n",
      "conv2d_13 (Conv2D)              (None, None, None, 1 147584      batch_normalization_v1_11[0][0]  \n",
      "__________________________________________________________________________________________________\n",
      "add_4 (Add)                     (None, None, None, 1 0           conv2d_13[0][0]                  \n",
      "                                                                 batch_normalization_v1_10[0][0]  \n",
      "__________________________________________________________________________________________________\n",
      "batch_normalization_v1_12 (Batc (None, None, None, 1 512         add_4[0][0]                      \n",
      "__________________________________________________________________________________________________\n",
      "conv2d_14 (Conv2D)              (None, None, None, 1 147584      batch_normalization_v1_12[0][0]  \n",
      "__________________________________________________________________________________________________\n",
      "batch_normalization_v1_13 (Batc (None, None, None, 1 512         conv2d_14[0][0]                  \n",
      "__________________________________________________________________________________________________\n",
      "conv2d_15 (Conv2D)              (None, None, None, 1 147584      batch_normalization_v1_13[0][0]  \n",
      "__________________________________________________________________________________________________\n",
      "add_5 (Add)                     (None, None, None, 1 0           conv2d_15[0][0]                  \n",
      "                                                                 batch_normalization_v1_12[0][0]  \n",
      "__________________________________________________________________________________________________\n",
      "global_average_pooling2d (Globa (None, 128)          0           add_5[0][0]                      \n",
      "__________________________________________________________________________________________________\n",
      "batch_normalization_v1_14 (Batc (None, 128)          512         global_average_pooling2d[0][0]   \n",
      "__________________________________________________________________________________________________\n",
      "dense (Dense)                   (None, 64)           8256        batch_normalization_v1_14[0][0]  \n",
      "__________________________________________________________________________________________________\n",
      "dropout (Dropout)               (None, 64)           0           dense[0][0]                      \n",
      "__________________________________________________________________________________________________\n",
      "dense_1 (Dense)                 (None, 10)           650         dropout[0][0]                    \n",
      "==================================================================================================\n",
      "Total params: 1,898,582\n",
      "Trainable params: 1,895,120\n",
      "Non-trainable params: 3,462\n",
      "__________________________________________________________________________________________________\n"
     ]
    }
   ],
   "source": [
    "svhn = tf.keras.Model(inputs=inp, outputs=x)\n",
    "svhn.compile(\"adam\", tf.losses.sparse_softmax_cross_entropy, metrics=[tf.keras.metrics.SparseCategoricalAccuracy(name=\"acc\")])\n",
    "svhn.summary()"
   ]
  },
  {
   "cell_type": "code",
   "execution_count": 9,
   "metadata": {},
   "outputs": [
    {
     "name": "stdout",
     "output_type": "stream",
     "text": [
      "WARNING:tensorflow:From /usr/local/lib/python3.6/dist-packages/tensorflow/python/ops/math_ops.py:3066: to_int32 (from tensorflow.python.ops.math_ops) is deprecated and will be removed in a future version.\n",
      "Instructions for updating:\n",
      "Use tf.cast instead.\n"
     ]
    },
    {
     "name": "stderr",
     "output_type": "stream",
     "text": [
      "W0430 11:43:27.769632 140413189797760 deprecation.py:323] From /usr/local/lib/python3.6/dist-packages/tensorflow/python/ops/math_ops.py:3066: to_int32 (from tensorflow.python.ops.math_ops) is deprecated and will be removed in a future version.\n",
      "Instructions for updating:\n",
      "Use tf.cast instead.\n"
     ]
    },
    {
     "name": "stdout",
     "output_type": "stream",
     "text": [
      "Epoch 1/50\n",
      "17/17 [==============================] - 37s 2s/step - loss: 2.4239 - acc: 0.1489 - val_loss: 2.2462 - val_acc: 0.1951\n",
      "Epoch 2/50\n",
      "17/17 [==============================] - 23s 1s/step - loss: 2.2435 - acc: 0.1885 - val_loss: 2.1676 - val_acc: 0.2397\n",
      "Epoch 3/50\n",
      "17/17 [==============================] - 24s 1s/step - loss: 2.1154 - acc: 0.2552 - val_loss: 1.8713 - val_acc: 0.3735\n",
      "Epoch 4/50\n",
      "17/17 [==============================] - 23s 1s/step - loss: 1.7823 - acc: 0.3846 - val_loss: 1.3247 - val_acc: 0.5625\n",
      "Epoch 5/50\n",
      "17/17 [==============================] - 22s 1s/step - loss: 1.2874 - acc: 0.5673 - val_loss: 0.8307 - val_acc: 0.7426\n",
      "Epoch 6/50\n",
      "17/17 [==============================] - 23s 1s/step - loss: 0.8892 - acc: 0.7227 - val_loss: 0.5346 - val_acc: 0.8306\n",
      "Epoch 7/50\n",
      "17/17 [==============================] - 24s 1s/step - loss: 0.5886 - acc: 0.8241 - val_loss: 0.4163 - val_acc: 0.8726\n",
      "Epoch 8/50\n",
      "17/17 [==============================] - 22s 1s/step - loss: 0.4570 - acc: 0.8665 - val_loss: 0.3413 - val_acc: 0.8963\n",
      "Epoch 9/50\n",
      "17/17 [==============================] - 22s 1s/step - loss: 0.3844 - acc: 0.8892 - val_loss: 0.3008 - val_acc: 0.9119\n",
      "Epoch 10/50\n",
      "17/17 [==============================] - 24s 1s/step - loss: 0.3274 - acc: 0.9073 - val_loss: 0.2759 - val_acc: 0.9181\n",
      "Epoch 11/50\n",
      "17/17 [==============================] - 22s 1s/step - loss: 0.2910 - acc: 0.9179 - val_loss: 0.2718 - val_acc: 0.9193\n",
      "Epoch 12/50\n",
      "17/17 [==============================] - 24s 1s/step - loss: 0.2678 - acc: 0.9242 - val_loss: 0.2648 - val_acc: 0.9225\n",
      "Epoch 13/50\n",
      "17/17 [==============================] - 23s 1s/step - loss: 0.2419 - acc: 0.9330 - val_loss: 0.2612 - val_acc: 0.9244\n",
      "Epoch 14/50\n",
      "17/17 [==============================] - 23s 1s/step - loss: 0.2279 - acc: 0.9365 - val_loss: 0.2511 - val_acc: 0.9283\n",
      "Epoch 15/50\n",
      "17/17 [==============================] - 22s 1s/step - loss: 0.2023 - acc: 0.9433 - val_loss: 0.2467 - val_acc: 0.9311\n",
      "Epoch 16/50\n",
      "17/17 [==============================] - 23s 1s/step - loss: 0.1741 - acc: 0.9521 - val_loss: 0.2761 - val_acc: 0.9239\n",
      "Epoch 17/50\n",
      "17/17 [==============================] - 24s 1s/step - loss: 0.1569 - acc: 0.9572 - val_loss: 0.2804 - val_acc: 0.9254\n",
      "Epoch 18/50\n",
      "16/17 [===========================>..] - ETA: 1s - loss: 0.1364 - acc: 0.9620\n",
      "Epoch 00018: ReduceLROnPlateau reducing learning rate to 0.00010000000474974513.\n",
      "17/17 [==============================] - 23s 1s/step - loss: 0.1372 - acc: 0.9618 - val_loss: 0.2739 - val_acc: 0.9264\n",
      "Epoch 19/50\n",
      "17/17 [==============================] - 22s 1s/step - loss: 0.1093 - acc: 0.9702 - val_loss: 0.2335 - val_acc: 0.9404\n",
      "Epoch 20/50\n",
      "17/17 [==============================] - 23s 1s/step - loss: 0.0835 - acc: 0.9792 - val_loss: 0.2306 - val_acc: 0.9406\n",
      "Epoch 21/50\n",
      "17/17 [==============================] - 24s 1s/step - loss: 0.0740 - acc: 0.9818 - val_loss: 0.2399 - val_acc: 0.9392\n",
      "Epoch 22/50\n",
      "17/17 [==============================] - 22s 1s/step - loss: 0.0673 - acc: 0.9844 - val_loss: 0.2389 - val_acc: 0.9397\n",
      "Epoch 23/50\n",
      "16/17 [===========================>..] - ETA: 1s - loss: 0.0605 - acc: 0.9859\n",
      "Epoch 00023: ReduceLROnPlateau reducing learning rate to 1.0000000474974514e-05.\n",
      "17/17 [==============================] - 22s 1s/step - loss: 0.0607 - acc: 0.9857 - val_loss: 0.2404 - val_acc: 0.9404\n",
      "Epoch 24/50\n",
      "17/17 [==============================] - 24s 1s/step - loss: 0.0570 - acc: 0.9868 - val_loss: 0.2456 - val_acc: 0.9397\n",
      "Epoch 25/50\n",
      "17/17 [==============================] - 25s 1s/step - loss: 0.0562 - acc: 0.9871 - val_loss: 0.2444 - val_acc: 0.9397\n"
     ]
    }
   ],
   "source": [
    "hist = svhn.fit(svhntr, steps_per_epoch=trsteps, epochs=50, validation_data=svhnte, validation_steps=testeps, \n",
    "                callbacks=[\n",
    "                    tf.keras.callbacks.ReduceLROnPlateau(patience=3, verbose=1),\n",
    "                    tf.keras.callbacks.EarlyStopping(patience=5, restore_best_weights=True)\n",
    "                ])"
   ]
  },
  {
   "cell_type": "code",
   "execution_count": 10,
   "metadata": {},
   "outputs": [
    {
     "data": {
      "image/png": "[encoded data removed]",
      "text/plain": [
       "<Figure size 432x288 with 1 Axes>"
      ]
     },
     "metadata": {
      "tags": []
     },
     "output_type": "display_data"
    },
    {
     "data": {
      "image/png": "[encoded data removed]",
      "text/plain": [
       "<Figure size 432x288 with 1 Axes>"
      ]
     },
     "metadata": {
      "tags": []
     },
     "output_type": "display_data"
    }
   ],
   "source": [
    "plt.plot(hist.history[\"loss\"], label=\"Train\")\n",
    "plt.plot(hist.history[\"val_loss\"], label=\"Val\")\n",
    "plt.legend()\n",
    "plt.title(\"Loss\")\n",
    "plt.show()\n",
    "\n",
    "plt.plot(hist.history[\"acc\"], label=\"Train\")\n",
    "plt.plot(hist.history[\"val_acc\"], label=\"Val\")\n",
    "plt.legend()\n",
    "plt.title(\"Accuracy\")\n",
    "plt.show()"
   ]
  },
  {
   "cell_type": "code",
   "execution_count": 11,
   "metadata": {},
   "outputs": [],
   "source": [
    "svhn.save(\"svhn.h5\")"
   ]
  },
  {
   "cell_type": "markdown",
   "metadata": {},
   "source": [
    "#### Run in Google Colab to save the model"
   ]
  },
  {
   "cell_type": "code",
   "execution_count": null,
   "metadata": {},
   "outputs": [],
   "source": [
    "from google.colab import drive\n",
    "drive.mount('/gdrive')"
   ]
  },
  {
   "cell_type": "code",
   "execution_count": null,
   "metadata": {},
   "outputs": [],
   "source": [
    "!cp -v svhn.h5 /gdrive/My\\ Drive/"
   ]
  },
  {
   "cell_type": "code",
   "execution_count": null,
   "metadata": {},
   "outputs": [],
   "source": []
  }
 ],
 "metadata": {
  "accelerator": "GPU",
  "colab": {
   "collapsed_sections": [],
   "name": "svhn.ipynb",
   "provenance": [],
   "version": "0.3.2"
  },
  "kernelspec": {
   "display_name": "Python 3",
   "language": "python",
   "name": "python3"
  },
  "language_info": {
   "codemirror_mode": {
    "name": "ipython",
    "version": 3
   },
   "file_extension": ".py",
   "mimetype": "text/x-python",
   "name": "python",
   "nbconvert_exporter": "python",
   "pygments_lexer": "ipython3",
   "version": "3.7.3"
  }
 },
 "nbformat": 4,
 "nbformat_minor": 2
}
